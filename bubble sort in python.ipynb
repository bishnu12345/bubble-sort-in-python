{
 "cells": [
  {
   "cell_type": "code",
   "execution_count": 2,
   "metadata": {},
   "outputs": [
    {
     "ename": "SyntaxError",
     "evalue": "invalid syntax (<ipython-input-2-27bfe5ad6e4a>, line 10)",
     "output_type": "error",
     "traceback": [
      "\u001b[1;36m  File \u001b[1;32m\"<ipython-input-2-27bfe5ad6e4a>\"\u001b[1;36m, line \u001b[1;32m10\u001b[0m\n\u001b[1;33m    print bubble_sort([54,26,93,17,77,31,44,55,20])\u001b[0m\n\u001b[1;37m                    ^\u001b[0m\n\u001b[1;31mSyntaxError\u001b[0m\u001b[1;31m:\u001b[0m invalid syntax\n"
     ]
    }
   ],
   "source": [
    "def bubble_sort(num_list):\n",
    "\tfor items in range(len(num_list)-1,0,-1):\n",
    "\t\tfor item in range(items):\n",
    "\t\t\tif num_list[item] > num_list[item+1]:\n",
    "\t\t\t\t# Swap\n",
    "\t\t\t\ttemp = num_list[item]\n",
    "\t\t\t\tnum_list[item] = num_list[item+1]\n",
    "\t\t\t\tnum_list[item+1] = temp\n",
    "\treturn num_list\n",
    "print bubble_sort([54,26,93,17,77,31,44,55,20])\n"
   ]
  },
  {
   "cell_type": "code",
   "execution_count": null,
   "metadata": {},
   "outputs": [],
   "source": []
  }
 ],
 "metadata": {
  "kernelspec": {
   "display_name": "Python 3",
   "language": "python",
   "name": "python3"
  },
  "language_info": {
   "codemirror_mode": {
    "name": "ipython",
    "version": 3
   },
   "file_extension": ".py",
   "mimetype": "text/x-python",
   "name": "python",
   "nbconvert_exporter": "python",
   "pygments_lexer": "ipython3",
   "version": "3.7.4"
  }
 },
 "nbformat": 4,
 "nbformat_minor": 2
}
